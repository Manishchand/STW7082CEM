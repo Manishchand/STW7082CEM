{
 "cells": [
  {
   "cell_type": "code",
   "execution_count": 320,
   "metadata": {},
   "outputs": [],
   "source": [
    "import os\n",
    "import pandas as pd\n",
    "import numpy as np\n",
    "import matplotlib.pyplot as plt\n",
    "import seaborn as sns\n",
    "# linear algebra\n",
    "import numpy as np \n",
    "# Visualizations\n",
    "import matplotlib.pyplot as plt\n",
    "from matplotlib import rcParams\n",
    "import seaborn as sns\n",
    "%matplotlib inline\n",
    "# Algorithms\n",
    "from sklearn import linear_model\n",
    "from sklearn.linear_model import LogisticRegression\n",
    "from sklearn.ensemble import RandomForestClassifier\n",
    "from sklearn.linear_model import Perceptron\n",
    "from sklearn.linear_model import SGDClassifier\n",
    "from sklearn.tree import DecisionTreeClassifier\n",
    "from sklearn.neighbors import KNeighborsClassifier\n",
    "from sklearn.svm import SVC, LinearSVC\n",
    "from sklearn.naive_bayes import GaussianNB"
   ]
  },
  {
   "cell_type": "code",
   "execution_count": 321,
   "metadata": {},
   "outputs": [],
   "source": [
    "from pyspark.sql import SparkSession\n",
    "from pyspark.sql.functions import col, count, when, mean, expr , sum, desc"
   ]
  },
  {
   "cell_type": "code",
   "execution_count": 322,
   "metadata": {},
   "outputs": [],
   "source": [
    "spark = SparkSession.builder.appName(\"dogadoption\").getOrCreate()\n"
   ]
  },
  {
   "cell_type": "code",
   "execution_count": 323,
   "metadata": {},
   "outputs": [],
   "source": [
    "dog_desc_path = \"dataset/allDogDescriptions.csv\"\n",
    "dog_travel = \"dataset/dogTravel.csv\"\n",
    "dog_move = \"dataset/movesByLocation.csv\""
   ]
  },
  {
   "cell_type": "code",
   "execution_count": 324,
   "metadata": {},
   "outputs": [],
   "source": [
    "df_dog_desc = spark.read.csv(dog_desc_path, header=True, inferSchema=True)\n",
    "df_dog_travel = spark.read.csv(dog_travel, header=True, inferSchema=True)\n",
    "df_dog_move = spark.read.csv(dog_move, header=True, inferSchema=True)\n",
    "\n"
   ]
  },
  {
   "cell_type": "code",
   "execution_count": 325,
   "metadata": {},
   "outputs": [
    {
     "name": "stdout",
     "output_type": "stream",
     "text": [
      "+--------------------+--------------------+--------------------+--------------------+--------------------+--------------------+--------------------+-----------+-------------+-----------------+--------------------+--------------+------+------+------+------+-----+-------------+--------+-------------+-------------+------------+--------+--------+-----------+---------+--------------------+------------+-------------+-----------+---------------+------+---------+--------------------+\n",
      "|               index|                  id|              org_id|                 url|             species|       breed_primary|     breed_secondary|breed_mixed|breed_unknown|    color_primary|     color_secondary|color_tertiary|   age|   sex|  size|  coat|fixed|house_trained|declawed|special_needs|shots_current|env_children|env_dogs|env_cats|       name|   status|              posted|contact_city|contact_state|contact_zip|contact_country|stateQ| accessed|         description|\n",
      "+--------------------+--------------------+--------------------+--------------------+--------------------+--------------------+--------------------+-----------+-------------+-----------------+--------------------+--------------+------+------+------+------+-----+-------------+--------+-------------+-------------+------------+--------+--------+-----------+---------+--------------------+------------+-------------+-----------+---------------+------+---------+--------------------+\n",
      "|                   0|            46042150|               NV163|https://www.petfi...|                 Dog|American Stafford...|         Mixed Breed|       TRUE|        FALSE|    White / Cream|Yellow / Tan / Bl...|          NULL|Senior|  Male|Medium| Short| TRUE|         TRUE|    NULL|        FALSE|         TRUE|        NULL|    NULL|    NULL|     HARLEY|adoptable|2019-09-20T16:37:...|   Las Vegas|           NV|   89147.00|             US| 89009|9/20/2019|Harley is not sur...|\n",
      "|                   1|            46042002|               NV163|https://www.petfi...|                 Dog|    Pit Bull Terrier|         Mixed Breed|       TRUE|        FALSE|Brown / Chocolate|       White / Cream|          NULL| Adult|  Male| Large| Short| TRUE|         TRUE|    NULL|        FALSE|         TRUE|        NULL|    NULL|    NULL|     BIGGIE|adoptable|2019-09-20T16:24:...|   Las Vegas|           NV|   89147.00|             US| 89009|9/20/2019|6 year old Biggie...|\n",
      "|                   2|            46040898|                NV99|https://www.petfi...|                 Dog|            Shepherd|                NULL|      FALSE|        FALSE|          Brindle|                NULL|          NULL| Adult|  Male| Large| Short| TRUE|        FALSE|    NULL|        FALSE|         TRUE|        NULL|    NULL|    NULL|      Ziggy|adoptable|2019-09-20T14:10:...|    Mesquite|           NV|   89027.00|             US| 89009|9/20/2019| Approx 2 years old.|\n",
      "| Did I catch your...| I am quite cute ...| but if you will ...| we can be buddie...| I love to go on ...|                play| and spend time c...|       NULL|         NULL|             NULL|                NULL|          NULL|  NULL|  NULL|  NULL|  NULL| NULL|         NULL|    NULL|         NULL|         NULL|        NULL|    NULL|    NULL|       NULL|     NULL|                NULL|        NULL|         NULL|       NULL|           NULL|  NULL|     NULL|                NULL|\n",
      "|Ziggy is shy  unt...| loves being pett...|                NULL|                NULL|                NULL|                NULL|                NULL|       NULL|         NULL|             NULL|                NULL|          NULL|  NULL|  NULL|  NULL|  NULL| NULL|         NULL|    NULL|         NULL|         NULL|        NULL|    NULL|    NULL|       NULL|     NULL|                NULL|        NULL|         NULL|       NULL|           NULL|  NULL|     NULL|                NULL|\n",
      "|Beautiful colors ...|                NULL|                NULL|                NULL|                NULL|                NULL|                NULL|       NULL|         NULL|             NULL|                NULL|          NULL|  NULL|  NULL|  NULL|  NULL| NULL|         NULL|    NULL|         NULL|         NULL|        NULL|    NULL|    NULL|       NULL|     NULL|                NULL|        NULL|         NULL|       NULL|           NULL|  NULL|     NULL|                NULL|\n",
      "|Adoption fee $60 ...| rabies and DHPPC...|                NULL|                NULL|                NULL|                NULL|                NULL|       NULL|         NULL|             NULL|                NULL|          NULL|  NULL|  NULL|  NULL|  NULL| NULL|         NULL|    NULL|         NULL|         NULL|        NULL|    NULL|    NULL|       NULL|     NULL|                NULL|        NULL|         NULL|       NULL|           NULL|  NULL|     NULL|                NULL|\n",
      "|                   3|            46039877|               NV202|https://www.petfi...|                 Dog| German Shepherd Dog|                NULL|      FALSE|        FALSE|             NULL|                NULL|          NULL|  Baby|Female| Large|  NULL|FALSE|        FALSE|    NULL|        FALSE|        FALSE|        NULL|    NULL|    NULL|      Gypsy|adoptable|2019-09-20T10:08:...|     Pahrump|           NV|   89048.00|             US| 89009|9/20/2019|                NULL|\n",
      "|                   4|            46039306|               NV184|https://www.petfi...|                 Dog|           Dachshund|                NULL|      FALSE|        FALSE|             NULL|                NULL|          NULL| Young|  Male| Small|  Long| TRUE|        FALSE|    NULL|        FALSE|         TRUE|        TRUE|    TRUE|    TRUE|       Theo|adoptable|2019-09-20T06:48:...|   Henderson|           NV|   89052.00|             US| 89009|9/20/2019|Theo is a friendl...|\n",
      "|                   5|            46039304|               NV184|https://www.petfi...|                 Dog|               Boxer|              Beagle|       TRUE|        FALSE|             NULL|                NULL|          NULL|  Baby|  Male|Medium| Short| TRUE|        FALSE|    NULL|        FALSE|         TRUE|        TRUE|    TRUE|    TRUE|     Oliver|adoptable|2019-09-20T06:43:...|   Henderson|           NV|   89052.00|             US| 89009|9/20/2019|Oliver was born a...|\n",
      "|Meet me Saturday ...| 645 S. Green Val...|                NULL|                NULL|                NULL|                NULL|                NULL|       NULL|         NULL|             NULL|                NULL|          NULL|  NULL|  NULL|  NULL|  NULL| NULL|         NULL|    NULL|         NULL|         NULL|        NULL|    NULL|    NULL|       NULL|     NULL|                NULL|        NULL|         NULL|       NULL|           NULL|  NULL|     NULL|                NULL|\n",
      "|                   6|            46039303|               NV184|https://www.petfi...|                 Dog|   Italian Greyhound|           Chihuahua|       TRUE|        FALSE|             NULL|                NULL|          NULL|  Baby|Female| Small| Short| TRUE|        FALSE|    NULL|        FALSE|         TRUE|        TRUE|    TRUE|    TRUE|  Macadamia|adoptable|2019-09-20T06:42:...|   Henderson|           NV|   89052.00|             US| 89009|9/20/2019|Macadamia was bor...|\n",
      "|                   7|            46039302|               NV184|https://www.petfi...|                 Dog|          Cattle Dog|                NULL|       TRUE|        FALSE|             NULL|                NULL|          NULL|  Baby|  Male|Medium|Medium| TRUE|        FALSE|    NULL|        FALSE|         TRUE|        TRUE|    TRUE|    TRUE|     Dodger|adoptable|2019-09-20T06:40:...|   Henderson|           NV|   89052.00|             US| 89009|9/20/2019|Dodger is a hands...|\n",
      "|                   8|            46039301|               NV184|https://www.petfi...|                 Dog|          Cattle Dog|                NULL|       TRUE|        FALSE|             NULL|                NULL|          NULL|  Baby|Female|Medium|Medium| TRUE|        FALSE|    NULL|        FALSE|         TRUE|        TRUE|    TRUE|    TRUE|Huckleberry|adoptable|2019-09-20T06:37:...|   Henderson|           NV|   89052.00|             US| 89009|9/20/2019|Huckleberry is a ...|\n",
      "|                   9|            46038709|               NV184|https://www.petfi...|                 Dog|          Cattle Dog|                NULL|       TRUE|        FALSE|             NULL|                NULL|          NULL|  Baby|  Male|Medium|Medium| TRUE|        FALSE|    NULL|        FALSE|         TRUE|        TRUE|    TRUE|    TRUE|      Fagin|adoptable|2019-09-20T05:00:...|   Henderson|           NV|   89052.00|             US| 89009|9/20/2019|Fagin was born on...|\n",
      "|                  10|            46038708|               NV184|https://www.petfi...|                 Dog|          Cattle Dog|               Hound|       TRUE|        FALSE|             NULL|                NULL|          NULL|  Baby|Female|Medium|Medium| TRUE|        FALSE|    NULL|        FALSE|         TRUE|        TRUE|    TRUE|    TRUE|   Speckles|adoptable|2019-09-20T04:59:...|   Henderson|           NV|   89052.00|             US| 89009|9/20/2019|Speckles is a 4 m...|\n",
      "|                  11|            46038703|               NV184|https://www.petfi...|                 Dog|   Italian Greyhound|           Chihuahua|       TRUE|        FALSE|             NULL|                NULL|          NULL|  Baby|Female| Small| Short| TRUE|        FALSE|    NULL|        FALSE|         TRUE|        TRUE|    TRUE|    TRUE|     Cashew|adoptable|2019-09-20T04:56:...|   Henderson|           NV|   89052.00|             US| 89009|9/20/2019|Cashew is sweet g...|\n",
      "|                  12|            46038700|               NV184|https://www.petfi...|                 Dog|          Cattle Dog|                NULL|       TRUE|        FALSE|             NULL|                NULL|          NULL|  Baby|  Male|Medium|Medium| TRUE|        FALSE|    NULL|        FALSE|         TRUE|        TRUE|    TRUE|    NULL|       Dash|adoptable|2019-09-20T04:54:...|   Henderson|           NV|   89052.00|             US| 89009|9/20/2019|Born May 26th, Da...|\n",
      "|                  13|            46038243|               NV155|https://www.petfi...|                 Dog|       Border Collie|                NULL|       TRUE|        FALSE|            Black|       White / Cream|          NULL| Adult|Female|Medium| Short| TRUE|         TRUE|    NULL|        FALSE|         TRUE|        NULL|    TRUE|    NULL|     Sydney|adoptable|2019-09-20T03:04:...|   Las Vegas|           NV|   89103.00|             US| 89009|9/20/2019|Meet Sydney- Sheâ...|\n",
      "|                  14|            46038070|                NV26|https://www.petfi...|                 Dog|    Pit Bull Terrier|                NULL|       TRUE|        FALSE|             NULL|                NULL|          NULL| Young|Female| Large|  NULL| TRUE|        FALSE|    NULL|        FALSE|        FALSE|        NULL|    NULL|    NULL|      HENNA|adoptable|2019-09-20T02:18:...|   Las Vegas|           NV|   89101.00|             US| 89009|9/20/2019|                NULL|\n",
      "+--------------------+--------------------+--------------------+--------------------+--------------------+--------------------+--------------------+-----------+-------------+-----------------+--------------------+--------------+------+------+------+------+-----+-------------+--------+-------------+-------------+------------+--------+--------+-----------+---------+--------------------+------------+-------------+-----------+---------------+------+---------+--------------------+\n",
      "only showing top 20 rows\n",
      "\n"
     ]
    }
   ],
   "source": [
    "df_dog_desc.show()"
   ]
  },
  {
   "cell_type": "code",
   "execution_count": 326,
   "metadata": {},
   "outputs": [
    {
     "name": "stdout",
     "output_type": "stream",
     "text": [
      "+--------------------+--------------------+--------------------+--------------------+--------------------+--------------------+--------------------+--------------------+--------------------+\n",
      "|               index|                  id|        contact_city|contact_state_travel|         description|               found|              manual|              remove|         still_there|\n",
      "+--------------------+--------------------+--------------------+--------------------+--------------------+--------------------+--------------------+--------------------+--------------------+\n",
      "|                   0|            44520267|               Anoka|                  MN|Boris is a handso...|                NULL|                NULL|                NULL|                NULL|\n",
      "|   He is 4 years old| just under 10 po...| and is a special...| and needs prescr...|                NULL|                NULL|                NULL|                NULL|                NULL|\n",
      "|If interested in ...|                NULL|                NULL|                NULL|                NULL|                NULL|                NULL|                NULL|                NULL|\n",
      "|Boris' adoption f...|            Arkansas|                NULL|                NULL|                NULL|                NULL|                NULL|                NULL|                NULL|\n",
      "|                   1|            44698509|           Groveland|                  FL|\"Duke is an almos...| is crate trained...|                NULL|                NULL|                NULL|\n",
      "|Applications avai...|           deworming|         is neutered|  heartworm negative| on heartworm pre...| is microchipped ...|                NULL|                NULL|                NULL|\n",
      "|    9/16/19 6:09 PM\"|              Abacos|             Bahamas|                NULL|                NULL|                NULL|                NULL|                NULL|                NULL|\n",
      "|                   2|            45983838|           Adamstown|                  MD|Zac Woof-ron is a...|                NULL|                NULL|                NULL|                NULL|\n",
      "|As you know from ...| Zac is a 2-year-old| purebred red hee...| about 37 pounds ...| âMission Impos...| Zac came into fo...| Zacâs publicis...| Zac was tied out...| with little to n...|\n",
      "|Although he is a ...| Zac quickly beco...|              biking| or hiking partne...| Zac isnât dest...| and he settles r...|                 sit|            lie down| and wait. He wil...|\n",
      "|Zac would thrive ...| they are no matc...| Zac requests a h...|                NULL|                NULL|                NULL|                NULL|                NULL|                NULL|\n",
      "|     Zac is neutered|        microchipped|  heartworm negative| and up to date o...|                 MD.|                NULL|                NULL|                NULL|                NULL|\n",
      "|       For questions| please contact m...|                NULL|                NULL|                NULL|                NULL|                NULL|                NULL|                NULL|\n",
      "|COMPLETE AN APPLI...|                NULL|                NULL|                NULL|                NULL|                NULL|                NULL|                NULL|                NULL|\n",
      "|http://www.acdra....|                NULL|                NULL|                NULL|                NULL|                NULL|                NULL|                NULL|                NULL|\n",
      "|    ,Adam,Maryland,,|                NULL|                NULL|                NULL|                NULL|                NULL|                NULL|                NULL|                NULL|\n",
      "|                   3|            44475904|         Saint Cloud|                  MN|~~Came in to the ...|             Adaptil|                NULL|                TRUE|                NULL|\n",
      "|                   4|            43877389|              Pueblo|                  CO|Palang is such a ...|         Afghanistan|                NULL|                NULL|                NULL|\n",
      "|                   5|            43082511|          Manchester|                  CT|Brooke has an unu...|                NULL|                NULL|                NULL|                NULL|\n",
      "|This speed and th...|                NULL|                NULL|                NULL|                NULL|                NULL|                NULL|                NULL|                NULL|\n",
      "+--------------------+--------------------+--------------------+--------------------+--------------------+--------------------+--------------------+--------------------+--------------------+\n",
      "only showing top 20 rows\n",
      "\n"
     ]
    }
   ],
   "source": [
    "df_dog_travel.show()"
   ]
  },
  {
   "cell_type": "code",
   "execution_count": 327,
   "metadata": {},
   "outputs": [
    {
     "name": "stdout",
     "output_type": "stream",
     "text": [
      "+-----+--------------+--------+--------+------+-----+\n",
      "|index|      location|exported|imported| total| inUS|\n",
      "+-----+--------------+--------+--------+------+-----+\n",
      "|    0|         Texas|   635.0|    NULL| 566.0| true|\n",
      "|    1|       Alabama|   268.0|     2.0|1428.0| true|\n",
      "|    2|North Carolina|   158.0|    14.0|2627.0| true|\n",
      "|    3|South Carolina|   139.0|    12.0|1618.0| true|\n",
      "|    4|       Georgia|   137.0|    19.0|3479.0| true|\n",
      "|    5|   Puerto Rico|   131.0|    NULL|  NULL|false|\n",
      "|    6|    California|   130.0|     3.0|1664.0| true|\n",
      "|    7|   South Korea|    76.0|    NULL|  NULL|false|\n",
      "|    8|     Tennessee|    66.0|    20.0|1769.0| true|\n",
      "|    9|      Kentucky|    57.0|     4.0|1123.0| true|\n",
      "|   10|   Mississippi|    55.0|    NULL| 510.0| true|\n",
      "|   11|        Mexico|    54.0|    NULL|  NULL|false|\n",
      "|   12|     Louisiana|    53.0|    NULL| 912.0| true|\n",
      "|   13| West Virginia|    50.0|    NULL| 565.0| true|\n",
      "|   14|       Florida|    49.0|    32.0|2659.0| true|\n",
      "|   15|      Arkansas|    47.0|     1.0| 695.0| true|\n",
      "|   16|         China|    28.0|    NULL|  NULL|false|\n",
      "|   17|    New Mexico|    27.0|    NULL| 636.0| true|\n",
      "|   18|      Thailand|    20.0|    NULL|  NULL|false|\n",
      "|   19|      Virginia|    20.0|   183.0|3058.0| true|\n",
      "+-----+--------------+--------+--------+------+-----+\n",
      "only showing top 20 rows\n",
      "\n"
     ]
    }
   ],
   "source": [
    "df_dog_move.show()"
   ]
  },
  {
   "cell_type": "code",
   "execution_count": 328,
   "metadata": {},
   "outputs": [
    {
     "name": "stdout",
     "output_type": "stream",
     "text": [
      "root\n",
      " |-- index: string (nullable = true)\n",
      " |-- id: string (nullable = true)\n",
      " |-- org_id: string (nullable = true)\n",
      " |-- url: string (nullable = true)\n",
      " |-- species: string (nullable = true)\n",
      " |-- breed_primary: string (nullable = true)\n",
      " |-- breed_secondary: string (nullable = true)\n",
      " |-- breed_mixed: string (nullable = true)\n",
      " |-- breed_unknown: string (nullable = true)\n",
      " |-- color_primary: string (nullable = true)\n",
      " |-- color_secondary: string (nullable = true)\n",
      " |-- color_tertiary: string (nullable = true)\n",
      " |-- age: string (nullable = true)\n",
      " |-- sex: string (nullable = true)\n",
      " |-- size: string (nullable = true)\n",
      " |-- coat: string (nullable = true)\n",
      " |-- fixed: string (nullable = true)\n",
      " |-- house_trained: string (nullable = true)\n",
      " |-- declawed: string (nullable = true)\n",
      " |-- special_needs: string (nullable = true)\n",
      " |-- shots_current: string (nullable = true)\n",
      " |-- env_children: string (nullable = true)\n",
      " |-- env_dogs: string (nullable = true)\n",
      " |-- env_cats: string (nullable = true)\n",
      " |-- name: string (nullable = true)\n",
      " |-- status: string (nullable = true)\n",
      " |-- posted: string (nullable = true)\n",
      " |-- contact_city: string (nullable = true)\n",
      " |-- contact_state: string (nullable = true)\n",
      " |-- contact_zip: string (nullable = true)\n",
      " |-- contact_country: string (nullable = true)\n",
      " |-- stateQ: string (nullable = true)\n",
      " |-- accessed: string (nullable = true)\n",
      " |-- description: string (nullable = true)\n",
      "\n"
     ]
    }
   ],
   "source": [
    "df_dog_desc.printSchema()\n"
   ]
  },
  {
   "cell_type": "code",
   "execution_count": 329,
   "metadata": {},
   "outputs": [
    {
     "name": "stdout",
     "output_type": "stream",
     "text": [
      "root\n",
      " |-- index: string (nullable = true)\n",
      " |-- id: string (nullable = true)\n",
      " |-- contact_city: string (nullable = true)\n",
      " |-- contact_state_travel: string (nullable = true)\n",
      " |-- description: string (nullable = true)\n",
      " |-- found: string (nullable = true)\n",
      " |-- manual: string (nullable = true)\n",
      " |-- remove: string (nullable = true)\n",
      " |-- still_there: string (nullable = true)\n",
      "\n"
     ]
    }
   ],
   "source": [
    "df_dog_travel.printSchema()"
   ]
  },
  {
   "cell_type": "code",
   "execution_count": 330,
   "metadata": {},
   "outputs": [
    {
     "name": "stdout",
     "output_type": "stream",
     "text": [
      "root\n",
      " |-- index: integer (nullable = true)\n",
      " |-- location: string (nullable = true)\n",
      " |-- exported: double (nullable = true)\n",
      " |-- imported: double (nullable = true)\n",
      " |-- total: double (nullable = true)\n",
      " |-- inUS: boolean (nullable = true)\n",
      "\n"
     ]
    }
   ],
   "source": [
    "df_dog_move.printSchema()"
   ]
  },
  {
   "cell_type": "code",
   "execution_count": 331,
   "metadata": {},
   "outputs": [
    {
     "name": "stdout",
     "output_type": "stream",
     "text": [
      "+-------+--------------------+-------------------+-----------------+------------------+------------------+-----------------+--------------------+--------------------+--------------------+--------------------+---------------+--------------------+--------------------+--------------------+--------------------+--------------------+-----------+-------------+--------------------+--------------------+-------------+--------------------+--------------------+--------------------+--------------------+--------------------+--------------------+--------------------+--------------------+--------------------+--------------------+--------------------+--------------------+--------------------+\n",
      "|summary|               index|                 id|           org_id|               url|           species|    breed_primary|     breed_secondary|         breed_mixed|       breed_unknown|       color_primary|color_secondary|      color_tertiary|                 age|                 sex|                size|                coat|      fixed|house_trained|            declawed|       special_needs|shots_current|        env_children|            env_dogs|            env_cats|                name|              status|              posted|        contact_city|       contact_state|         contact_zip|     contact_country|              stateQ|            accessed|         description|\n",
      "+-------+--------------------+-------------------+-----------------+------------------+------------------+-----------------+--------------------+--------------------+--------------------+--------------------+---------------+--------------------+--------------------+--------------------+--------------------+--------------------+-----------+-------------+--------------------+--------------------+-------------+--------------------+--------------------+--------------------+--------------------+--------------------+--------------------+--------------------+--------------------+--------------------+--------------------+--------------------+--------------------+--------------------+\n",
      "|  count|              238619|             133977|           103137|             85813|             76234|            70402|               28636|               63360|               61825|               28673|          13736|                2165|               58788|               58589|               58471|               27429|      58349|        58297|                 107|               58214|        58185|               28039|               34666|               19350|               58152|               58147|               58147|               58145|               58144|               58130|               58138|               58136|               58136|               49435|\n",
      "|   mean|  323571.71523190173|4.410688356986095E7|           3670.5| 8035.598039215686|1010.3333333333334|          29471.0|                NULL|              2018.0|                NULL|                NULL|           NULL|              2018.0|                NULL|                NULL|                NULL|                NULL|       NULL|         NULL|                NULL|                NULL|         NULL|                NULL|                NULL|                NULL|                 NaN|                NULL|                NULL|                NULL|                NULL|   41040.79289340101|                NULL|    89192.5532831001|                NULL|   306735.6666666667|\n",
      "| stddev| 4.343527518274086E7|  4577512.837950778|13990.33378801235|10826.599214878146|1099.8288351678486|22054.18259650536|                NULL|                NULL|                NULL|                NULL|           NULL|                NULL|                NULL|                NULL|                NULL|                NULL|       NULL|         NULL|                NULL|                NULL|         NULL|                NULL|                NULL|                NULL|                 NaN|                NULL|                NULL|                NULL|                NULL|   27668.40153692749|                NULL|  205.00088028625478|                NULL|   530609.7361265937|\n",
      "|    min|\\t\\t\\tI am curren...|                   |                 |                  |                  |                 |                    |                    |  But he is getti...|  and an Alabama ...|               |  I love riding a...|  I'm getting exc...| & pees on comman...|  He loads in cra...|  hip & pelvic ex...|  microchip|        'sit'| 'stay' and I alw...| Hunter has so mu...|     6 yr old| 14 yr old and 17...| (the pretty one ...| I'll keep one ea...| I get around jus...| a companion who ...| a lover and not ...| a girl's just go...| and he looks so ...| and he loves to ...| a goat horn or b...| and microchipped...| all age appropri...| and any needed v...|\n",
      "|    max|                 ï¿½|    â âlay down|       â âsit|       â âdown|        â âsit|       â âpaw|â) but since th...|â and âgo to ...|Â as well as bein...|     â âlie down|    â âstay|         â âcome|      â âdrop it|â and âleave ...|   \\\"\" \\\"\"leave it\\\"|â and if you se...|       TRUE|         TRUE|â and is learni...|                TRUE|         TRUE|                TRUE|                TRUE|                TRUE|“We want YOU!” Fo...|           adoptable|2019-09-20T17:32:...|             taunton|                  WY|            99716.00|                  US|                  WY|           9/20/2019|â¢Sato, â¢femal...|\n",
      "+-------+--------------------+-------------------+-----------------+------------------+------------------+-----------------+--------------------+--------------------+--------------------+--------------------+---------------+--------------------+--------------------+--------------------+--------------------+--------------------+-----------+-------------+--------------------+--------------------+-------------+--------------------+--------------------+--------------------+--------------------+--------------------+--------------------+--------------------+--------------------+--------------------+--------------------+--------------------+--------------------+--------------------+\n",
      "\n"
     ]
    }
   ],
   "source": [
    "df_dog_desc.describe().show()\n"
   ]
  },
  {
   "cell_type": "code",
   "execution_count": 332,
   "metadata": {},
   "outputs": [
    {
     "name": "stdout",
     "output_type": "stream",
     "text": [
      "+-------+------------------+-----------+-----------------+-----------------+------------------+\n",
      "|summary|             index|   location|         exported|         imported|             total|\n",
      "+-------+------------------+-----------+-----------------+-----------------+------------------+\n",
      "|  count|                90|         90|               81|               38|                51|\n",
      "|   mean|              44.5|       NULL|30.37037037037037|64.73684210526316|1139.8235294117646|\n",
      "| stddev|26.124700955226263|       NULL|81.50282885342757| 94.2155906678577|1014.5459024781944|\n",
      "|    min|                 0|Afghanistan|              1.0|              1.0|              15.0|\n",
      "|    max|                89|    Wyoming|            635.0|            390.0|            4002.0|\n",
      "+-------+------------------+-----------+-----------------+-----------------+------------------+\n",
      "\n"
     ]
    }
   ],
   "source": [
    "df_dog_move.describe().show()"
   ]
  },
  {
   "cell_type": "code",
   "execution_count": 333,
   "metadata": {},
   "outputs": [
    {
     "name": "stdout",
     "output_type": "stream",
     "text": [
      "+-------+------------------+--------------------+-----------------+--------------------+--------------------+--------------------+--------------------+--------------------+--------------------+\n",
      "|summary|             index|                  id|     contact_city|contact_state_travel|         description|               found|              manual|              remove|         still_there|\n",
      "+-------+------------------+--------------------+-----------------+--------------------+--------------------+--------------------+--------------------+--------------------+--------------------+\n",
      "|  count|             58214|               33724|            23504|               17062|               13473|                6611|                4568|                3057|                2006|\n",
      "|   mean| 3061.031682853049| 4.472851116123831E7|            452.1|   5989.199438202248|              2013.0|                NULL|                NULL|              2018.0|                NULL|\n",
      "| stddev|1800.9976536681886|  3342249.2612910816|830.5070004387547|   6243.033953392449|                 0.0|                NULL|                NULL|                 0.0|                NULL|\n",
      "|    min|   \\tA Fenced Yard|                    |                 |  He weighed 43 l...|                    |  All of our dogs...|                    |  and an Alabama ...|  and an Alabama ...|\n",
      "|    max|               ï¿½|up-to-date on vac...|      â âball|   the United States|â¢Sato, â¢femal...|        â he wags.|the City of Cross...|microchip and an ...|microchip and an ...|\n",
      "+-------+------------------+--------------------+-----------------+--------------------+--------------------+--------------------+--------------------+--------------------+--------------------+\n",
      "\n"
     ]
    }
   ],
   "source": [
    "df_dog_travel.describe().show()"
   ]
  },
  {
   "cell_type": "markdown",
   "metadata": {},
   "source": [
    "distinct count"
   ]
  },
  {
   "cell_type": "code",
   "execution_count": 334,
   "metadata": {},
   "outputs": [
    {
     "name": "stdout",
     "output_type": "stream",
     "text": [
      "Count Distinct index: 136491\n",
      "Count Distinct id: 90506\n",
      "Count Distinct org_id: 24031\n",
      "Count Distinct url: 71227\n",
      "Count Distinct species: 8648\n",
      "Count Distinct breed_primary: 6139\n",
      "Count Distinct breed_secondary: 4186\n",
      "Count Distinct breed_mixed: 2737\n",
      "Count Distinct breed_unknown: 1880\n",
      "Count Distinct color_primary: 1324\n",
      "Count Distinct color_secondary: 956\n",
      "Count Distinct color_tertiary: 724\n",
      "Count Distinct age: 514\n",
      "Count Distinct sex: 381\n",
      "Count Distinct size: 288\n",
      "Count Distinct coat: 230\n",
      "Count Distinct fixed: 178\n",
      "Count Distinct house_trained: 135\n",
      "Count Distinct declawed: 94\n",
      "Count Distinct special_needs: 71\n",
      "Count Distinct shots_current: 53\n",
      "Count Distinct env_children: 38\n",
      "Count Distinct env_dogs: 29\n",
      "Count Distinct env_cats: 22\n",
      "Count Distinct name: 22918\n",
      "Count Distinct status: 19\n",
      "Count Distinct posted: 48354\n",
      "Count Distinct contact_city: 2188\n",
      "Count Distinct contact_state: 66\n",
      "Count Distinct contact_zip: 3563\n",
      "Count Distinct contact_country: 12\n",
      "Count Distinct stateQ: 70\n",
      "Count Distinct accessed: 10\n",
      "Count Distinct description: 41430\n"
     ]
    }
   ],
   "source": [
    "for column in df_dog_desc.columns:\n",
    "    col_cnt = df_dog_desc.select(column).distinct().count()\n",
    "    print(f\"Count Distinct {column}: {col_cnt}\")"
   ]
  },
  {
   "cell_type": "code",
   "execution_count": 335,
   "metadata": {},
   "outputs": [
    {
     "name": "stdout",
     "output_type": "stream",
     "text": [
      "+------+------+------+-----+-------+-------------+---------------+-----------+-------------+-------------+---------------+--------------+-----+-----+-----+-----+-----+-------------+--------+-------------+-------------+------------+--------+--------+-----+------+------+------------+-------------+-----------+---------------+------+--------+-----------+\n",
      "| index|    id|org_id|  url|species|breed_primary|breed_secondary|breed_mixed|breed_unknown|color_primary|color_secondary|color_tertiary|  age|  sex| size| coat|fixed|house_trained|declawed|special_needs|shots_current|env_children|env_dogs|env_cats| name|status|posted|contact_city|contact_state|contact_zip|contact_country|stateQ|accessed|description|\n",
      "+------+------+------+-----+-------+-------------+---------------+-----------+-------------+-------------+---------------+--------------+-----+-----+-----+-----+-----+-------------+--------+-------------+-------------+------------+--------+--------+-----+------+------+------------+-------------+-----------+---------------+------+--------+-----------+\n",
      "|238619|133977|103137|85813|  76234|        70402|          28636|      63360|        61825|        28673|          13736|          2165|58788|58589|58471|27429|58349|        58297|     107|        58214|        58185|       28039|   34666|   19350|58152| 58147| 58147|       58145|        58144|      58130|          58138| 58136|   58136|      49435|\n",
      "+------+------+------+-----+-------+-------------+---------------+-----------+-------------+-------------+---------------+--------------+-----+-----+-----+-----+-----+-------------+--------+-------------+-------------+------------+--------+--------+-----+------+------+------------+-------------+-----------+---------------+------+--------+-----------+\n",
      "\n"
     ]
    }
   ],
   "source": [
    "not_null_counts = df_dog_desc.select([sum(col(c).isNotNull().cast(\"int\")).alias(c) for c in df_dog_desc.columns])\n",
    "not_null_counts.show()"
   ]
  },
  {
   "cell_type": "markdown",
   "metadata": {},
   "source": [
    "Identify Missing Values:"
   ]
  },
  {
   "cell_type": "code",
   "execution_count": 339,
   "metadata": {},
   "outputs": [
    {
     "name": "stdout",
     "output_type": "stream",
     "text": [
      "+-----+-----+------------+--------------------+-----------+-----+------+------+-----------+\n",
      "|index|   id|contact_city|contact_state_travel|description|found|manual|remove|still_there|\n",
      "+-----+-----+------------+--------------------+-----------+-----+------+------+-----------+\n",
      "|58214|33724|       23504|               17062|      13473| 6611|  4568|  3057|       2006|\n",
      "+-----+-----+------------+--------------------+-----------+-----+------+------+-----------+\n",
      "\n"
     ]
    }
   ],
   "source": [
    "not_null_counts = df_dog_travel.select([sum((~col(c).isNull()).cast(\"int\")).alias(c) for c in df_dog_travel.columns])\n",
    "not_null_counts.show()"
   ]
  },
  {
   "cell_type": "code",
   "execution_count": 340,
   "metadata": {},
   "outputs": [
    {
     "name": "stdout",
     "output_type": "stream",
     "text": [
      "+-----+--------+--------+--------+-----+----+\n",
      "|index|location|exported|imported|total|inUS|\n",
      "+-----+--------+--------+--------+-----+----+\n",
      "|   90|      90|      81|      38|   51|  90|\n",
      "+-----+--------+--------+--------+-----+----+\n",
      "\n"
     ]
    }
   ],
   "source": [
    "not_null_counts = df_dog_move.select([sum((~col(c).isNull()).cast(\"int\")).alias(c) for c in df_dog_move.columns])\n",
    "not_null_counts.show()"
   ]
  },
  {
   "cell_type": "code",
   "execution_count": 341,
   "metadata": {},
   "outputs": [
    {
     "data": {
      "text/plain": [
       "['index', 'location', 'exported', 'imported', 'total', 'inUS']"
      ]
     },
     "execution_count": 341,
     "metadata": {},
     "output_type": "execute_result"
    }
   ],
   "source": [
    "df_dog_move.columns"
   ]
  },
  {
   "cell_type": "markdown",
   "metadata": {},
   "source": [
    "the States with the Most Imports:"
   ]
  },
  {
   "cell_type": "code",
   "execution_count": 342,
   "metadata": {},
   "outputs": [
    {
     "name": "stdout",
     "output_type": "stream",
     "text": [
      "+-------------+--------------+\n",
      "|     location|total_imported|\n",
      "+-------------+--------------+\n",
      "|     New York|         390.0|\n",
      "|   Washington|         334.0|\n",
      "|   New Jersey|         270.0|\n",
      "| Pennsylvania|         228.0|\n",
      "|     Virginia|         183.0|\n",
      "|     Maryland|         123.0|\n",
      "| Rhode Island|          87.0|\n",
      "|        Maine|          87.0|\n",
      "|Massachusetts|          77.0|\n",
      "|    Wisconsin|          74.0|\n",
      "|     Colorado|          71.0|\n",
      "|    Minnesota|          67.0|\n",
      "|         Utah|          56.0|\n",
      "|  Connecticut|          51.0|\n",
      "|      Vermont|          45.0|\n",
      "|         Ohio|          33.0|\n",
      "|New Hampshire|          33.0|\n",
      "|      Florida|          32.0|\n",
      "|     Delaware|          29.0|\n",
      "|    Tennessee|          20.0|\n",
      "+-------------+--------------+\n",
      "only showing top 20 rows\n",
      "\n"
     ]
    }
   ],
   "source": [
    "# Group by state and sum the imported values\n",
    "df_state_imports = df_dog_move.groupBy(\"location\").sum(\"imported\").withColumnRenamed(\"sum(imported)\", \"total_imported\").orderBy(desc(\"total_imported\"))\n",
    "df_state_imports.show()"
   ]
  },
  {
   "cell_type": "code",
   "execution_count": 343,
   "metadata": {},
   "outputs": [],
   "source": [
    "df_combined = df_dog_desc.join(df_dog_travel, \"id\")\n"
   ]
  },
  {
   "cell_type": "code",
   "execution_count": 344,
   "metadata": {},
   "outputs": [
    {
     "name": "stdout",
     "output_type": "stream",
     "text": [
      "root\n",
      " |-- id: string (nullable = true)\n",
      " |-- index: string (nullable = true)\n",
      " |-- org_id: string (nullable = true)\n",
      " |-- url: string (nullable = true)\n",
      " |-- species: string (nullable = true)\n",
      " |-- breed_primary: string (nullable = true)\n",
      " |-- breed_secondary: string (nullable = true)\n",
      " |-- breed_mixed: string (nullable = true)\n",
      " |-- breed_unknown: string (nullable = true)\n",
      " |-- color_primary: string (nullable = true)\n",
      " |-- color_secondary: string (nullable = true)\n",
      " |-- color_tertiary: string (nullable = true)\n",
      " |-- age: string (nullable = true)\n",
      " |-- sex: string (nullable = true)\n",
      " |-- size: string (nullable = true)\n",
      " |-- coat: string (nullable = true)\n",
      " |-- fixed: string (nullable = true)\n",
      " |-- house_trained: string (nullable = true)\n",
      " |-- declawed: string (nullable = true)\n",
      " |-- special_needs: string (nullable = true)\n",
      " |-- shots_current: string (nullable = true)\n",
      " |-- env_children: string (nullable = true)\n",
      " |-- env_dogs: string (nullable = true)\n",
      " |-- env_cats: string (nullable = true)\n",
      " |-- name: string (nullable = true)\n",
      " |-- status: string (nullable = true)\n",
      " |-- posted: string (nullable = true)\n",
      " |-- contact_city: string (nullable = true)\n",
      " |-- contact_state: string (nullable = true)\n",
      " |-- contact_zip: string (nullable = true)\n",
      " |-- contact_country: string (nullable = true)\n",
      " |-- stateQ: string (nullable = true)\n",
      " |-- accessed: string (nullable = true)\n",
      " |-- description: string (nullable = true)\n",
      " |-- index: string (nullable = true)\n",
      " |-- contact_city: string (nullable = true)\n",
      " |-- contact_state_travel: string (nullable = true)\n",
      " |-- description: string (nullable = true)\n",
      " |-- found: string (nullable = true)\n",
      " |-- manual: string (nullable = true)\n",
      " |-- remove: string (nullable = true)\n",
      " |-- still_there: string (nullable = true)\n",
      "\n"
     ]
    }
   ],
   "source": [
    "df_combined.printSchema()"
   ]
  },
  {
   "cell_type": "code",
   "execution_count": 345,
   "metadata": {},
   "outputs": [],
   "source": [
    "df_combined = df_combined.select(\n",
    "    \"id\",\n",
    "    col(\"contact_state_travel\").alias(\"contact_state\"),  # Use alias to standardize the column name\n",
    "    \"breed_primary\",\n",
    "    \"breed_secondary\"\n",
    ")"
   ]
  },
  {
   "cell_type": "code",
   "execution_count": 346,
   "metadata": {},
   "outputs": [],
   "source": [
    "df_combined = df_combined.join(\n",
    "    df_dog_move.select(\n",
    "        col(\"location\").alias(\"contact_state\"),\n",
    "        \"imported\"\n",
    "    ),\n",
    "    \"contact_state\"\n",
    ")"
   ]
  },
  {
   "cell_type": "code",
   "execution_count": 347,
   "metadata": {},
   "outputs": [
    {
     "name": "stdout",
     "output_type": "stream",
     "text": [
      "root\n",
      " |-- contact_state: string (nullable = true)\n",
      " |-- id: string (nullable = true)\n",
      " |-- breed_primary: string (nullable = true)\n",
      " |-- breed_secondary: string (nullable = true)\n",
      " |-- imported: double (nullable = true)\n",
      "\n"
     ]
    }
   ],
   "source": [
    "df_combined.printSchema()\n"
   ]
  },
  {
   "cell_type": "code",
   "execution_count": 348,
   "metadata": {},
   "outputs": [
    {
     "name": "stdout",
     "output_type": "stream",
     "text": [
      "+--------------+-------------+\n",
      "| contact_state|total_imports|\n",
      "+--------------+-------------+\n",
      "|      Virginia|     320982.0|\n",
      "|       Georgia|      56183.0|\n",
      "|  Rhode Island|      40020.0|\n",
      "|      New York|      38220.0|\n",
      "|    New Jersey|      29430.0|\n",
      "|  Pennsylvania|      25080.0|\n",
      "|     Tennessee|      11100.0|\n",
      "|South Carolina|      10284.0|\n",
      "|North Carolina|      10192.0|\n",
      "|       Florida|       7744.0|\n",
      "+--------------+-------------+\n",
      "\n"
     ]
    }
   ],
   "source": [
    "df_imports = df_combined.groupBy(\"contact_state\").agg(\n",
    "    {\"imported\": \"sum\"}\n",
    ").withColumnRenamed(\"sum(imported)\", \"total_imports\").orderBy(col(\"total_imports\").desc()).limit(10)\n",
    "\n",
    "df_imports.show()"
   ]
  },
  {
   "cell_type": "code",
   "execution_count": 349,
   "metadata": {},
   "outputs": [
    {
     "name": "stdout",
     "output_type": "stream",
     "text": [
      "+-------------+--------------------+-----+\n",
      "|contact_state|       breed_primary|count|\n",
      "+-------------+--------------------+-----+\n",
      "|      Alabama|                NULL|   43|\n",
      "|      Arizona|                NULL|   11|\n",
      "|     Arkansas|                NULL| 2467|\n",
      "|     Arkansas|                toys|    2|\n",
      "|     Arkansas| spay/neuter and ...|    1|\n",
      "|        Aruba|                NULL|   83|\n",
      "|   California|                NULL|  814|\n",
      "|  Connecticut|                NULL|  111|\n",
      "|        Egypt|                NULL|    1|\n",
      "|      England|                NULL|   36|\n",
      "|      Florida|                NULL|  242|\n",
      "|      Georgia|                NULL| 2957|\n",
      "|     Illinois|                NULL|   16|\n",
      "|         Iowa|                NULL|    6|\n",
      "|       Kansas|                NULL|    3|\n",
      "|     Kentucky|                NULL|  496|\n",
      "|    Louisiana|                NULL|  170|\n",
      "|     Maryland|                NULL|   20|\n",
      "|Massachusetts|                NULL|    4|\n",
      "|       Mexico|                NULL|   44|\n",
      "+-------------+--------------------+-----+\n",
      "only showing top 20 rows\n",
      "\n"
     ]
    }
   ],
   "source": [
    "df_breeds = df_combined.groupBy(\"contact_state\", \"breed_primary\").count().orderBy(col(\"contact_state\"), col(\"count\").desc())\n",
    "\n",
    "df_breeds.show()"
   ]
  },
  {
   "cell_type": "code",
   "execution_count": 350,
   "metadata": {},
   "outputs": [
    {
     "data": {
      "image/png": "[encoded data removed]",
      "text/plain": [
       "<Figure size 1000x700 with 1 Axes>"
      ]
     },
     "metadata": {},
     "output_type": "display_data"
    }
   ],
   "source": [
    "# Convert Spark DataFrame to Pandas DataFrame\n",
    "df_imports_pandas = df_imports.toPandas()\n",
    "\n",
    "# Drop rows with NaN values\n",
    "df_imports_pandas = df_imports_pandas.dropna()\n",
    "\n",
    "# Plotting pie chart\n",
    "plt.figure(figsize=(10, 7))\n",
    "plt.pie(df_imports_pandas['total_imports'], labels=df_imports_pandas['contact_state'], autopct='%1.1f%%', startangle=360)\n",
    "plt.axis('equal')  # Equal aspect ratio ensures that pie is drawn as a circle.\n",
    "plt.title(\"Total Dog Imports by State\")\n",
    "plt.show()\n"
   ]
  },
  {
   "cell_type": "markdown",
   "metadata": {},
   "source": [
    "Clustering Analysis"
   ]
  },
  {
   "cell_type": "code",
   "execution_count": 351,
   "metadata": {},
   "outputs": [],
   "source": [
    "# from pyspark.ml.feature import StringIndexer\n",
    "\n",
    "# # List of categorical columns to be indexed\n",
    "# categorical_columns = [\"age\", \"size\", \"breed_primary\", \"contact_state\"]  # Add other categorical columns as needed\n",
    "\n",
    "# # Apply StringIndexer to each categorical column\n",
    "# indexers = [StringIndexer(inputCol=col, outputCol=col + \"_index\").fit(df_dog_desc) for col in categorical_columns]\n",
    "\n",
    "# # Index the categorical columns\n",
    "# for indexer in indexers:\n",
    "#     df = indexer.transform(df)\n",
    "\n",
    "# # Show the indexed data\n",
    "# df.show(5)\n"
   ]
  },
  {
   "cell_type": "code",
   "execution_count": 352,
   "metadata": {},
   "outputs": [
    {
     "name": "stdout",
     "output_type": "stream",
     "text": [
      "Cluster Centers: \n",
      "[-1.0000e+00 -1.0000e+00  4.5378e+03  6.1200e+01]\n",
      "[ -1.  -1. 759.  52.]\n",
      "[-1.000e+00 -1.000e+00  3.581e+03  6.200e+01]\n",
      "+--------------------+--------------------+--------------------+--------------------+--------------------+--------------------+--------------------+--------------------+--------------------+--------------------+--------------------+--------------------+--------------------+--------------------+--------------------+--------------------+--------------------+--------------------+--------------------+--------------------+--------------------+--------------------+--------------------+--------------------+--------------------+--------------------+--------------------+-----------+--------------------+--------------------+--------------------+--------------------+-----------+------------+-------------------+-------------------+--------------------+----------+\n",
      "|               index|                  id|              org_id|                 url|             species|       breed_primary|     breed_secondary|         breed_mixed|       breed_unknown|       color_primary|     color_secondary|      color_tertiary|                 sex|                coat|               fixed|       house_trained|            declawed|       special_needs|       shots_current|        env_children|            env_dogs|            env_cats|                name|              status|              posted|        contact_city|       contact_state|contact_zip|     contact_country|              stateQ|            accessed|         description|age_numeric|size_numeric|breed_primary_index|contact_state_index|            features|prediction|\n",
      "+--------------------+--------------------+--------------------+--------------------+--------------------+--------------------+--------------------+--------------------+--------------------+--------------------+--------------------+--------------------+--------------------+--------------------+--------------------+--------------------+--------------------+--------------------+--------------------+--------------------+--------------------+--------------------+--------------------+--------------------+--------------------+--------------------+--------------------+-----------+--------------------+--------------------+--------------------+--------------------+-----------+------------+-------------------+-------------------+--------------------+----------+\n",
      "|Pirate is in fact...| having let us kn...| and stress is no...| and sleeping on ...| and dancing when...| just not outside...| he is a warm wea...| but only when he...| and not when he ...|        on his terms| he will sometime...| he is done. Pira...| and we have neve...| and to love him ...|                well| odd. Undiagnosed...|          and ataxia| which worsen whe...| and can lead to ...| he has limited v...| surprises like a...|           or a bike| can send him int...| and when he pani...| he requires a fe...| and for his hous...| so he needs a ho...|       NULL| he loves his snu...| and while he can...| he loves licky m...| but the other do...|         -1|          -1|             4287.0|               63.0|[-1.0,-1.0,4287.0...|         0|\n",
      "|ALL OF MY PICTURE...|             it's me| Weaver! It's sum...| and the livin' i...| it really is eas...| except if my mea...| but foster mom h...| so I've slimmed ...| I look pretty fl...| but the speedo s...| but they don't s...|         but it's ok| short walks. I a...| especially durin...| so I get around ...| but my foster sa...| but as a senior guy| I wear a belly b...| if you need to k...| and I just arriv...| I am in the cari...|      but no worries| I get around jus...| and I love to ex...| and I let you kn...| email our Adopti...| please click the...|       NULL| and click the ap...| the mounting hig...| please consider ...| and your donatio...|         -1|          -1|             3581.0|               62.0|[-1.0,-1.0,3581.0...|         2|\n",
      "|~~~~~~~~~~~~~~~~~...| and the two dogs...| but Apollo was d...| but Apollo ate f...|              though| so that probably...|     though. In fact| he often doesn't...| or until we tell...| and then the sou...| although we take...| because he does ...| he will try to j...| and almost seems...| very contrite an...| I think he'd do ...| and he should pr...|  goes in on command| and also just to...| but I still want...| but he has shown...| he chases his to...| and you can chec...| and he's happy n...| so he doesn't ge...| he still tries t...| and he looks so ...|       NULL| his tail starts ...| or if he's charm...| give a quick bel...| he follows my da...|         -1|          -1|             5355.0|               56.0|[-1.0,-1.0,5355.0...|         0|\n",
      "|'Your final stop ...| but it is nothin...| little did I kno...|000 days there. I...| most likely due ...| maybe even more....| the vets determi...| through hot summ...| and not a single...| I was finally ad...| it was short liv...| because my shelt...|           depressed| hundreds of doll...| and so many bloo...| it was finally d...| and requires a l...| but thankfully I...|             playing| and STILL LOOKIN...| taking me to my ...| filling my belly...| and giving me so...| my story hasnâ...| out of the ordinary|              spunky| and unconditiona...|       NULL| up to date on al...|  heartworm negative| neutered and mic...|       crate trained|         -1|          -1|             4449.0|               58.0|[-1.0,-1.0,4449.0...|         0|\n",
      "|Singles alert!!Ã¢...|            athletic| and quite a thou...| long distance ju...|          dog boxing| and fine dining....| with a side of d...| but long walks o...| so any kind of 4...| and will also wo...|       have no shame| love every other...| the litter was r...| sometimes inside...| but he is an out...|                ball|                bone|               stick| anything he can ...| where he can exp...| so if you have o...| that's what he n...|                down|                wait| and ok. He loves...| but training cla...|         around 35lb|       NULL|            neutered| and microchipped...|        amused daily| and willing to g...|         -1|          -1|              759.0|               52.0|[-1.0,-1.0,759.0,...|         1|\n",
      "|Singles alert!!??...|            athletic| and quite a thou...| long distance ju...|          dog boxing| and fine dining....| with a side of d...| but long walks o...| so any kind of 4...| and will also wo...|       have no shame| love every other...| the litter was r...| sometimes inside...| but he is an out...|                ball|                bone|               stick| anything he can ...| where he can exp...| so if you have o...| that's what he n...|                down|                wait| and ok. He loves...| but training cla...|         around 35lb|       NULL|            neutered| and microchipped...|        amused daily| and willing to g...|         -1|          -1|              759.0|               52.0|[-1.0,-1.0,759.0,...|         1|\n",
      "|CARSON was saved ...|       core vaccines|              rabies| de-wormed and mi...| but has obviousl...| it is up to indi...| happy-go-lucky c...| she is great wit...| living amongst d...| tail wagging. Sh...| suitable for his...| barking / whinin...| we really prefer...| or who can provi...|     training tricks|          or agility| dock diving or o...|              active| stimulating acti...| personalities an...| it is so very im...| lots of other do...|             vetting|  health certificate| transport from T...| monthly preventa...|         supplements|       NULL| please go to our...| under the APPLIC...|            complete| then submit the ...|         -1|          -1|             4231.0|               65.0|[-1.0,-1.0,4231.0...|         0|\n",
      "|   Such a sweet girl| so overlooked. V...| she just wants h...| absolutely a vil...| she was left as ...| locked in an aba...| but thankfully A...| Slade was very o...| so she's been ha...| growing up under...| and she's turned...| everything is a ...| and she weighs 4...| and she loves to...| she would make a...| but she is a bit...| so she needs a m...| then she's good ...| and can behave a...| but she's really...| but is not rude....| but she gets a b...| so we're going t...| and has even bee...| but dog parks ar...| she's a very typ...| super into her p...|       NULL|           microchip| microchip regist...| all age appropri...| and any needed v...|         -1|          -1|             4367.0|               64.0|[-1.0,-1.0,4367.0...|         0|\n",
      "+--------------------+--------------------+--------------------+--------------------+--------------------+--------------------+--------------------+--------------------+--------------------+--------------------+--------------------+--------------------+--------------------+--------------------+--------------------+--------------------+--------------------+--------------------+--------------------+--------------------+--------------------+--------------------+--------------------+--------------------+--------------------+--------------------+--------------------+-----------+--------------------+--------------------+--------------------+--------------------+-----------+------------+-------------------+-------------------+--------------------+----------+\n",
      "\n"
     ]
    }
   ],
   "source": [
    "from pyspark.ml.clustering import KMeans\n",
    "\n",
    "# Prepare data for clustering\n",
    "assembler = VectorAssembler(inputCols=[\"age_numeric\", \"size_numeric\", \"breed_primary_index\", \"contact_state_index\"], outputCol=\"features\")\n",
    "df_clust = assembler.transform(df)\n",
    "\n",
    "# Initialize and fit the KMeans model\n",
    "kmeans = KMeans(k=3, seed=1)\n",
    "model = kmeans.fit(df_clust)\n",
    "\n",
    "# Show cluster centers\n",
    "centers = model.clusterCenters()\n",
    "print(\"Cluster Centers: \")\n",
    "for center in centers:\n",
    "    print(center)\n",
    "\n",
    "# Assign clusters to data\n",
    "df_clust = model.transform(df_clust)\n",
    "df_clust.show()\n"
   ]
  },
  {
   "cell_type": "code",
   "execution_count": 354,
   "metadata": {},
   "outputs": [],
   "source": [
    "df = df.withColumn('stateQ', col('stateQ').cast('integer'))\n"
   ]
  },
  {
   "cell_type": "code",
   "execution_count": 356,
   "metadata": {},
   "outputs": [
    {
     "name": "stdout",
     "output_type": "stream",
     "text": [
      "+------------------------------------------------------------------+\n",
      "|count(CASE WHEN (isnan(stateQ) OR (stateQ IS NULL)) THEN true END)|\n",
      "+------------------------------------------------------------------+\n",
      "|                                                                 8|\n",
      "+------------------------------------------------------------------+\n",
      "\n"
     ]
    }
   ],
   "source": [
    "# Check for null or NaN values in 'stateQ'\n",
    "from pyspark.sql.functions import isnan, when, count, col\n",
    "\n",
    "df.select([count(when(isnan('stateQ') | col('stateQ').isNull(), True))]).show()\n",
    "\n",
    "# Handle null values by dropping rows with null 'stateQ'\n",
    "df_clean = df.dropna(subset=['stateQ'])\n",
    "\n",
    "# Convert 'stateQ' to integer type after cleaning\n",
    "df_clean = df_clean.withColumn('stateQ', col('stateQ').cast('integer'))\n",
    "\n",
    "# Continue with your classification pipeline on df_clean\n"
   ]
  },
  {
   "cell_type": "code",
   "execution_count": 361,
   "metadata": {},
   "outputs": [
    {
     "name": "stdout",
     "output_type": "stream",
     "text": [
      "+-----+---+------+---+-------+-------------+---------------+-----------+-------------+-------------+---------------+--------------+---+----+-----+-------------+--------+-------------+-------------+------------+--------+--------+----+------+------+------------+-------------+-----------+---------------+------+--------+-----------+-----------+------------+-------------------+-------------------+\n",
      "|index| id|org_id|url|species|breed_primary|breed_secondary|breed_mixed|breed_unknown|color_primary|color_secondary|color_tertiary|sex|coat|fixed|house_trained|declawed|special_needs|shots_current|env_children|env_dogs|env_cats|name|status|posted|contact_city|contact_state|contact_zip|contact_country|stateQ|accessed|description|age_numeric|size_numeric|breed_primary_index|contact_state_index|\n",
      "+-----+---+------+---+-------+-------------+---------------+-----------+-------------+-------------+---------------+--------------+---+----+-----+-------------+--------+-------------+-------------+------------+--------+--------+----+------+------+------------+-------------+-----------+---------------+------+--------+-----------+-----------+------------+-------------------+-------------------+\n",
      "|    0|  0|     0|  0|      0|            0|              0|          0|            0|            0|              0|             0|  0|   0|    0|            0|       0|            0|            0|           0|       0|       0|   0|     0|     0|           0|            0|          8|              0|     8|       0|          0|          0|           0|                  0|                  0|\n",
      "+-----+---+------+---+-------+-------------+---------------+-----------+-------------+-------------+---------------+--------------+---+----+-----+-------------+--------+-------------+-------------+------------+--------+--------+----+------+------+------------+-------------+-----------+---------------+------+--------+-----------+-----------+------------+-------------------+-------------------+\n",
      "\n"
     ]
    }
   ],
   "source": [
    "# Check for null values across all columns\n",
    "df.select([count(when(col(c).isNull(), c)).alias(c) for c in df.columns]).show()\n",
    "\n",
    "# Drop rows with null values in any column\n",
    "df_clean = df.dropna()\n",
    "\n",
    "# Convert 'stateQ' to integer type after cleaning\n",
    "df_clean = df_clean.withColumn('stateQ', col('stateQ').cast('integer'))\n"
   ]
  },
  {
   "cell_type": "code",
   "execution_count": null,
   "metadata": {},
   "outputs": [],
   "source": [
    "from pyspark.ml.classification import DecisionTreeClassifier\n",
    "from pyspark.ml.evaluation import MulticlassClassificationEvaluator\n",
    "\n",
    "# Prepare data for classification\n",
    "assembler = VectorAssembler(inputCols=[\"age_numeric\", \"size_numeric\", \"breed_primary_index\", \"contact_state_index\"], outputCol=\"features\")\n",
    "df_class = assembler.transform(df_clean)\n",
    "\n",
    "# Initialize and fit the Decision Tree model\n",
    "dt = DecisionTreeClassifier(featuresCol=\"features\", labelCol=\"stateQ\")\n",
    "dt_model = dt.fit(df_class)\n",
    "\n",
    "# Make predictions\n",
    "predictions = dt_model.transform(df_class)\n",
    "\n",
    "# Evaluate the model\n",
    "evaluator = MulticlassClassificationEvaluator(labelCol=\"stateQ\", predictionCol=\"prediction\", metricName=\"accuracy\")\n",
    "accuracy = evaluator.evaluate(predictions)\n",
    "print(f\"Accuracy: {accuracy}\")\n",
    "\n",
    "# Show confusion matrix\n",
    "predictions.groupBy(\"stateQ\", \"prediction\").count().show()\n"
   ]
  }
 ],
 "metadata": {
  "kernelspec": {
   "display_name": "Python 3",
   "language": "python",
   "name": "python3"
  },
  "language_info": {
   "codemirror_mode": {
    "name": "ipython",
    "version": 3
   },
   "file_extension": ".py",
   "mimetype": "text/x-python",
   "name": "python",
   "nbconvert_exporter": "python",
   "pygments_lexer": "ipython3",
   "version": "3.11.9"
  }
 },
 "nbformat": 4,
 "nbformat_minor": 2
}
